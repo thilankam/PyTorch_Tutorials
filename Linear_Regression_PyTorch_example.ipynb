{
  "nbformat": 4,
  "nbformat_minor": 0,
  "metadata": {
    "colab": {
      "provenance": [],
      "authorship_tag": "ABX9TyOgvcS9KkB13wl7Kvp4YCtV",
      "include_colab_link": true
    },
    "kernelspec": {
      "name": "python3",
      "display_name": "Python 3"
    },
    "language_info": {
      "name": "python"
    }
  },
  "cells": [
    {
      "cell_type": "markdown",
      "metadata": {
        "id": "view-in-github",
        "colab_type": "text"
      },
      "source": [
        "<a href=\"https://colab.research.google.com/github/thilankam/PyTorch_Tutorials/blob/main/Linear_Regression_PyTorch_example.ipynb\" target=\"_parent\"><img src=\"https://colab.research.google.com/assets/colab-badge.svg\" alt=\"Open In Colab\"/></a>"
      ]
    },
    {
      "cell_type": "code",
      "execution_count": 2,
      "metadata": {
        "id": "_8leS84KXzvt"
      },
      "outputs": [],
      "source": [
        "import torch\n",
        "\n",
        "# intialize the values for x, y and w\n",
        "x = torch.tensor(1.0) # float value for x = 1\n",
        "y = torch.tensor(2.0) # float value for y = 2\n",
        "\n",
        "# our initial weight is a tensor and also we need to calculate the gradient,\n",
        "# we enable: requires_grad=True\n",
        "\n",
        "w = torch.tensor(1.0, requires_grad=True)\n"
      ]
    },
    {
      "cell_type": "markdown",
      "source": [
        "Example with mannual Calculations"
      ],
      "metadata": {
        "id": "rZ5--z6Yb35w"
      }
    },
    {
      "cell_type": "markdown",
      "source": [],
      "metadata": {
        "id": "1ZQzH_gwb6pW"
      }
    },
    {
      "cell_type": "markdown",
      "source": [
        "Forward Pass and coputing the loss"
      ],
      "metadata": {
        "id": "txaqU-7dY272"
      }
    },
    {
      "cell_type": "code",
      "source": [
        "# out function is: f=w*x\n",
        "\n",
        "y_hat = w*x # predicted y value\n",
        "\n",
        "# loss = (y_hat - y)^2\n",
        "loss = (y_hat - y)**2\n",
        "print(loss)"
      ],
      "metadata": {
        "colab": {
          "base_uri": "https://localhost:8080/"
        },
        "id": "SrOFJeQEY7Mp",
        "outputId": "1295c821-c89f-42b1-eb98-cd088a0f4dfe"
      },
      "execution_count": 3,
      "outputs": [
        {
          "output_type": "stream",
          "name": "stdout",
          "text": [
            "tensor(1., grad_fn=<PowBackward0>)\n"
          ]
        }
      ]
    },
    {
      "cell_type": "markdown",
      "source": [
        "Backward Pass"
      ],
      "metadata": {
        "id": "stJVBNsFZsdb"
      }
    },
    {
      "cell_type": "code",
      "source": [
        "# pytorch will compute the local gradients automatically for us\n",
        "# and pytorch will compute the Backward Pass automatically for us and \n",
        "# all we need to do is to call the backward() function.\n",
        "\n",
        "loss.backward()\n",
        "print(w.grad)"
      ],
      "metadata": {
        "colab": {
          "base_uri": "https://localhost:8080/"
        },
        "id": "k9M0J08hZv20",
        "outputId": "2256b958-9bcf-45a0-cf43-c4e20a48e8f3"
      },
      "execution_count": 4,
      "outputs": [
        {
          "output_type": "stream",
          "name": "stdout",
          "text": [
            "tensor(-2.)\n"
          ]
        }
      ]
    },
    {
      "cell_type": "code",
      "source": [
        "import numpy as np\n",
        "# f = w*x\n",
        "# f = 2*x  ;  w = 2\n",
        "X = np.array([1,2,3,4], dtype=np.float32)\n",
        "Y = np.array([2,4,6,8], dtype=np.float32)\n",
        "\n",
        "w = 0.0"
      ],
      "metadata": {
        "id": "X5-e022HLeUm"
      },
      "execution_count": null,
      "outputs": []
    },
    {
      "cell_type": "code",
      "source": [
        "# model prediction\n",
        "def forward(x):\n",
        "  return w*x\n",
        "\n",
        "\n",
        "# loss MSE\n",
        "def loss(y, y_predicted):\n",
        "  return ((y_predicted-y)**2).mean()\n",
        "  \n"
      ],
      "metadata": {
        "id": "eNFNlfmNaf1c"
      },
      "execution_count": 9,
      "outputs": []
    },
    {
      "cell_type": "code",
      "source": [
        "# Gradient\n",
        "# MSE = 1/N * (w*x - y)**2\n",
        "# dJ/dw = 1/N 2x(w*x - y).   # derivative\n",
        "\n",
        "def gradient(x,y, y_predicted):\n",
        "  return np.dot(2*x, y_predicted-y).mean()\n",
        "\n",
        "\n",
        "\n",
        "print(f'Predictiion before training: f(5) = {forward(5):.3f}')\n",
        "\n",
        "# Training \n",
        "learning_rate = 0.01\n",
        "n_iters = 10\n",
        "\n",
        "for epoch in range(n_iters):\n",
        "  # prediction = forward pass\n",
        "  y_pred = forward(X)\n",
        "\n",
        "  # loss \n",
        "  l = loss(Y, y_pred)\n",
        "\n",
        "  # gradients\n",
        "  dw = gradient(X,Y,y_pred)\n",
        "\n",
        "  # update weights\n",
        "  w -= learning_rate * dw\n",
        "\n",
        "  if epoch % 1 == 0:\n",
        "    print(f'epoch {epoch+1}: w = {w:.3f}, loss = {l:.8f}')\n",
        "\n",
        "print(f'Predictiion after training: f(5) = {forward(5):.3f}')\n",
        "\n",
        "\n",
        "  \n",
        "    "
      ],
      "metadata": {
        "colab": {
          "base_uri": "https://localhost:8080/"
        },
        "id": "TjlbhgTmcdSJ",
        "outputId": "99b6f1a1-f43a-421b-abe3-6f32db20bfa0"
      },
      "execution_count": 10,
      "outputs": [
        {
          "output_type": "stream",
          "name": "stdout",
          "text": [
            "Predictiion before training: f(5) = 0.000\n",
            "epoch 1: w = 1.200, loss = 30.00000000\n",
            "epoch 2: w = 1.680, loss = 4.79999924\n",
            "epoch 3: w = 1.872, loss = 0.76800019\n",
            "epoch 4: w = 1.949, loss = 0.12288000\n",
            "epoch 5: w = 1.980, loss = 0.01966083\n",
            "epoch 6: w = 1.992, loss = 0.00314574\n",
            "epoch 7: w = 1.997, loss = 0.00050331\n",
            "epoch 8: w = 1.999, loss = 0.00008053\n",
            "epoch 9: w = 1.999, loss = 0.00001288\n",
            "epoch 10: w = 2.000, loss = 0.00000206\n",
            "Predictiion after training: f(5) = 9.999\n"
          ]
        }
      ]
    }
  ]
}