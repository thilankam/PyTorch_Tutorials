{
  "nbformat": 4,
  "nbformat_minor": 0,
  "metadata": {
    "colab": {
      "provenance": [],
      "authorship_tag": "ABX9TyNARQgsnl25GSZaRhh7fTwQ",
      "include_colab_link": true
    },
    "kernelspec": {
      "name": "python3",
      "display_name": "Python 3"
    },
    "language_info": {
      "name": "python"
    }
  },
  "cells": [
    {
      "cell_type": "markdown",
      "metadata": {
        "id": "view-in-github",
        "colab_type": "text"
      },
      "source": [
        "<a href=\"https://colab.research.google.com/github/thilankam/PyTorch_Tutorials/blob/main/Linear_Regression_PyTorch_example.ipynb\" target=\"_parent\"><img src=\"https://colab.research.google.com/assets/colab-badge.svg\" alt=\"Open In Colab\"/></a>"
      ]
    },
    {
      "cell_type": "code",
      "execution_count": 2,
      "metadata": {
        "id": "_8leS84KXzvt"
      },
      "outputs": [],
      "source": [
        "import torch\n",
        "\n",
        "# intialize the values for x, y and w\n",
        "x = torch.tensor(1.0) # float value for x = 1\n",
        "y = torch.tensor(2.0) # float value for y = 2\n",
        "\n",
        "# our initial weight is a tensor and also we need to calculate the gradient,\n",
        "# we enable: requires_grad=True\n",
        "\n",
        "w = torch.tensor(1.0, requires_grad=True)\n"
      ]
    },
    {
      "cell_type": "markdown",
      "source": [
        "Example with mannual Calculations"
      ],
      "metadata": {
        "id": "rZ5--z6Yb35w"
      }
    },
    {
      "cell_type": "markdown",
      "source": [],
      "metadata": {
        "id": "1ZQzH_gwb6pW"
      }
    },
    {
      "cell_type": "markdown",
      "source": [
        "Forward Pass and coputing the loss"
      ],
      "metadata": {
        "id": "txaqU-7dY272"
      }
    },
    {
      "cell_type": "code",
      "source": [
        "# out function is: f=w*x\n",
        "\n",
        "y_hat = w*x # predicted y value\n",
        "\n",
        "# loss = (y_hat - y)^2\n",
        "loss = (y_hat - y)**2\n",
        "print(loss)"
      ],
      "metadata": {
        "colab": {
          "base_uri": "https://localhost:8080/"
        },
        "id": "SrOFJeQEY7Mp",
        "outputId": "1295c821-c89f-42b1-eb98-cd088a0f4dfe"
      },
      "execution_count": 3,
      "outputs": [
        {
          "output_type": "stream",
          "name": "stdout",
          "text": [
            "tensor(1., grad_fn=<PowBackward0>)\n"
          ]
        }
      ]
    },
    {
      "cell_type": "markdown",
      "source": [
        "Backward Pass"
      ],
      "metadata": {
        "id": "stJVBNsFZsdb"
      }
    },
    {
      "cell_type": "code",
      "source": [
        "# pytorch will compute the local gradients automatically for us\n",
        "# and pytorch will compute the Backward Pass automatically for us and \n",
        "# all we need to do is to call the backward() function.\n",
        "\n",
        "loss.backward()\n",
        "print(w.grad)"
      ],
      "metadata": {
        "colab": {
          "base_uri": "https://localhost:8080/"
        },
        "id": "k9M0J08hZv20",
        "outputId": "2256b958-9bcf-45a0-cf43-c4e20a48e8f3"
      },
      "execution_count": 4,
      "outputs": [
        {
          "output_type": "stream",
          "name": "stdout",
          "text": [
            "tensor(-2.)\n"
          ]
        }
      ]
    },
    {
      "cell_type": "code",
      "source": [
        "import numpy as np\n",
        "# f = w*x\n",
        "# f = 2*x  ;  w = 2\n",
        "X = np.array([1,2,3,4], dtype=np.float32)\n",
        "Y = np.array([2,4,6,8], dtype=np.float32)\n",
        "\n",
        "w = 0.0"
      ],
      "metadata": {
        "id": "X5-e022HLeUm"
      },
      "execution_count": 8,
      "outputs": []
    },
    {
      "cell_type": "code",
      "source": [
        "# model prediction\n",
        "def forward(x):\n",
        "  return w*x\n",
        "\n",
        "\n",
        "# loss MSE\n",
        "def loss(y, y_predicted):\n",
        "  return ((y_predicted-y)**2).mean()\n",
        "  \n"
      ],
      "metadata": {
        "id": "eNFNlfmNaf1c"
      },
      "execution_count": null,
      "outputs": []
    }
  ]
}