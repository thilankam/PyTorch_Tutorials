{
  "nbformat": 4,
  "nbformat_minor": 0,
  "metadata": {
    "colab": {
      "provenance": [],
      "authorship_tag": "ABX9TyN0brJb+BmrWYYp6+zFm6kf",
      "include_colab_link": true
    },
    "kernelspec": {
      "name": "python3",
      "display_name": "Python 3"
    },
    "language_info": {
      "name": "python"
    }
  },
  "cells": [
    {
      "cell_type": "markdown",
      "metadata": {
        "id": "view-in-github",
        "colab_type": "text"
      },
      "source": [
        "<a href=\"https://colab.research.google.com/github/thilankam/PyTorch_Tutorials/blob/main/Regression_with_Neeural_Network_Pytorch_Example.ipynb\" target=\"_parent\"><img src=\"https://colab.research.google.com/assets/colab-badge.svg\" alt=\"Open In Colab\"/></a>"
      ]
    },
    {
      "cell_type": "markdown",
      "source": [
        "1. Design model inputs and outputs\n",
        "2. Construct the Loss and Optimizer\n",
        "3. Training Loop:\n",
        "  - forward pass: compute prediction\n",
        "  - backward pass: gradients\n",
        "  - update weights"
      ],
      "metadata": {
        "id": "9YztQQO6XUqG"
      }
    },
    {
      "cell_type": "markdown",
      "source": [
        "We will use the Pytorch Neural Network Model"
      ],
      "metadata": {
        "id": "nAtLXKrJXZEn"
      }
    },
    {
      "cell_type": "code",
      "source": [
        "import torch\n",
        "import torch.nn as nn\n",
        "import numpy as np\n",
        "from sklearn import datasets\n",
        "import matplotlib.pyplot as plt\n"
      ],
      "metadata": {
        "id": "FscSp4XNXXbb"
      },
      "execution_count": 5,
      "outputs": []
    },
    {
      "cell_type": "code",
      "source": [
        "# 0. Prepare our data\n",
        "X_numpy, y_numpy = datasets.make_regression(n_samples=100, n_features=1, noise=20, random_state=1)\n",
        "X = torch.from_numpy(X_numpy.astype(np.float32))\n",
        "y = torch.from_numpy(y_numpy.astype(np.float32))\n",
        "\n",
        "# reshape the y, because we want to make it a column vector\n",
        "y = y.view(y.shape[0],1)\n",
        "\n",
        "n_samples, n_features = X.shape"
      ],
      "metadata": {
        "id": "HB8eD7pocdUa"
      },
      "execution_count": 12,
      "outputs": []
    },
    {
      "cell_type": "code",
      "source": [
        "# 1. Design the model\n",
        "input_size = n_features\n",
        "output_size = 1\n",
        "\n",
        "model = nn.Linear(input_size, output_size)"
      ],
      "metadata": {
        "id": "fd-ChtO0cI4n"
      },
      "execution_count": 14,
      "outputs": []
    },
    {
      "cell_type": "code",
      "source": [
        "# 2. Loss and Optimizer\n",
        "\n",
        "leaarning_rate = 0.01\n",
        "criterion = nn.MSELoss() # Mean Squared Error # Loss\n",
        "optimizer = torch.optim.SGD(model.parameters(), lr = leaarning_rate)\n"
      ],
      "metadata": {
        "id": "ZdzLHCk5cQe0"
      },
      "execution_count": 15,
      "outputs": []
    },
    {
      "cell_type": "code",
      "source": [
        "# 3. Training Loop\n",
        "num_epocs = 100 # 100 training iterations\n",
        "for epoch in range(num_epocs):\n",
        "  # forward pass and loss\n",
        "  y_prdicted = model(X)\n",
        "  loss = criterion(y_prdicted, y)\n",
        "\n",
        "  # backward pass . # calculate the gradient\n",
        "  loss.backward() # this will do the backpropagation and it will calcuate the gradients\n",
        "\n",
        "  # update\n",
        "  optimizer.step()\n",
        "  optimizer.zero_grad()\n",
        "\n",
        "  if (epoch+1) % 10 == 0:\n",
        "    print(f'epoch: {epoch+1}, loss: {loss.item():.4f}')\n",
        "\n",
        "\n",
        "# plot\n",
        "predicted = model(X).detach().numpy()\n",
        "plt.plot(X_numpy, y_numpy, 'ro')\n",
        "plt.plot(X_numpy, predicted, 'b')\n",
        "plt.show()\n",
        "\n"
      ],
      "metadata": {
        "colab": {
          "base_uri": "https://localhost:8080/",
          "height": 604
        },
        "id": "j9ErWWX1cT0m",
        "outputId": "e2211c6e-fec0-4fe7-84bd-0923d5e2a38a"
      },
      "execution_count": 16,
      "outputs": [
        {
          "output_type": "stream",
          "name": "stdout",
          "text": [
            "epoch: 10, loss: 4471.1387\n",
            "epoch: 20, loss: 3331.8972\n",
            "epoch: 30, loss: 2508.3188\n",
            "epoch: 40, loss: 1912.2649\n",
            "epoch: 50, loss: 1480.4279\n",
            "epoch: 60, loss: 1167.2595\n",
            "epoch: 70, loss: 939.9467\n",
            "epoch: 80, loss: 774.8149\n",
            "epoch: 90, loss: 654.7635\n",
            "epoch: 100, loss: 567.4246\n"
          ]
        },
        {
          "output_type": "display_data",
          "data": {
            "text/plain": [
              "<Figure size 640x480 with 1 Axes>"
            ],
            "image/png": "[encoded data removed]"
          },
          "metadata": {}
        }
      ]
    }
  ]
}