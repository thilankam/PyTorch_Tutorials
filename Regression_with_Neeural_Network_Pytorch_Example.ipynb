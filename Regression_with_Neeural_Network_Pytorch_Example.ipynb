{
  "nbformat": 4,
  "nbformat_minor": 0,
  "metadata": {
    "colab": {
      "provenance": [],
      "authorship_tag": "ABX9TyPa2R8fNDFfGSkw215GRhNF",
      "include_colab_link": true
    },
    "kernelspec": {
      "name": "python3",
      "display_name": "Python 3"
    },
    "language_info": {
      "name": "python"
    }
  },
  "cells": [
    {
      "cell_type": "markdown",
      "metadata": {
        "id": "view-in-github",
        "colab_type": "text"
      },
      "source": [
        "<a href=\"https://colab.research.google.com/github/thilankam/PyTorch_Tutorials/blob/main/Regression_with_Neeural_Network_Pytorch_Example.ipynb\" target=\"_parent\"><img src=\"https://colab.research.google.com/assets/colab-badge.svg\" alt=\"Open In Colab\"/></a>"
      ]
    },
    {
      "cell_type": "markdown",
      "source": [
        "1. Design model inputs and outputs\n",
        "2. Construct the Loss and Optimizer\n",
        "3. Training Loop:\n",
        "  - forward pass: compute prediction\n",
        "  - backward pass: gradients\n",
        "  - update weights"
      ],
      "metadata": {
        "id": "9YztQQO6XUqG"
      }
    },
    {
      "cell_type": "markdown",
      "source": [
        "We will use the Pytorch Neural Network Model"
      ],
      "metadata": {
        "id": "nAtLXKrJXZEn"
      }
    },
    {
      "cell_type": "code",
      "source": [
        "import torch\n",
        "import torch.nn as nn\n",
        "import numpy as np\n",
        "from sklearn import datasets\n",
        "import matplotlib.pyplot as plt\n"
      ],
      "metadata": {
        "id": "FscSp4XNXXbb"
      },
      "execution_count": 4,
      "outputs": []
    },
    {
      "cell_type": "code",
      "source": [
        "# 0. Prepare our data"
      ],
      "metadata": {
        "id": "HB8eD7pocdUa"
      },
      "execution_count": null,
      "outputs": []
    },
    {
      "cell_type": "code",
      "source": [
        "# 1. Design the model\n"
      ],
      "metadata": {
        "id": "fd-ChtO0cI4n"
      },
      "execution_count": null,
      "outputs": []
    },
    {
      "cell_type": "code",
      "source": [
        "# 2. Loss and Optimizer\n"
      ],
      "metadata": {
        "id": "ZdzLHCk5cQe0"
      },
      "execution_count": null,
      "outputs": []
    },
    {
      "cell_type": "code",
      "source": [
        "# 3. Training Loop\n"
      ],
      "metadata": {
        "id": "j9ErWWX1cT0m"
      },
      "execution_count": null,
      "outputs": []
    }
  ]
}