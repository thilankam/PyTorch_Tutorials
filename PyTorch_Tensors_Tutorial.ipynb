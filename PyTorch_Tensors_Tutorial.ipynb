{
  "nbformat": 4,
  "nbformat_minor": 0,
  "metadata": {
    "colab": {
      "name": "PyTorch_Tensors_Tutorial.ipynb",
      "provenance": [],
      "authorship_tag": "ABX9TyNI7Ir6sV9BQBI0S7o+g8Q/",
      "include_colab_link": true
    },
    "kernelspec": {
      "name": "python3",
      "display_name": "Python 3"
    },
    "language_info": {
      "name": "python"
    }
  },
  "cells": [
    {
      "cell_type": "markdown",
      "metadata": {
        "id": "view-in-github",
        "colab_type": "text"
      },
      "source": [
        "<a href=\"https://colab.research.google.com/github/thilankam/PyTorch_Tutorials/blob/main/PyTorch_Tensors_Tutorial.ipynb\" target=\"_parent\"><img src=\"https://colab.research.google.com/assets/colab-badge.svg\" alt=\"Open In Colab\"/></a>"
      ]
    },
    {
      "cell_type": "code",
      "execution_count": null,
      "metadata": {
        "id": "61Zzec-JvToe"
      },
      "outputs": [],
      "source": [
        ""
      ]
    },
    {
      "cell_type": "markdown",
      "source": [
        "#Tensors\n",
        "This tutorial is based on the Tensors. A tensor is a generalization of vectors and matrices and is easily understood as multidimentional array. \n",
        "Tensors are a type of data structures used in liner algebra (similar to vectors and matrices). \n",
        "We can use to calculate arithmetic operations tensors."
      ],
      "metadata": {
        "id": "ZunL29XAvgDa"
      }
    },
    {
      "cell_type": "code",
      "source": [
        "import torch\n",
        "torch.__version__\n",
        "import numpy as np\n",
        "lst = [10,20,30,40,50,60,70,80]\n",
        "# creating a numpy array using the list\n",
        "arr = np.array(lst)\n",
        "arr \n",
        "# checking the data type\n",
        "arr.dtype"
      ],
      "metadata": {
        "colab": {
          "base_uri": "https://localhost:8080/"
        },
        "id": "LzoK0oGawPLN",
        "outputId": "0a91d470-63aa-4c44-8119-f7e45aecfa53"
      },
      "execution_count": null,
      "outputs": [
        {
          "output_type": "execute_result",
          "data": {
            "text/plain": [
              "dtype('int64')"
            ]
          },
          "metadata": {},
          "execution_count": 17
        }
      ]
    },
    {
      "cell_type": "markdown",
      "source": [
        "Now we will convert from Numpy to Tensor"
      ],
      "metadata": {
        "id": "pliissUhxSGU"
      }
    },
    {
      "cell_type": "code",
      "source": [
        "tensors = torch.from_numpy(arr)\n",
        "tensors"
      ],
      "metadata": {
        "colab": {
          "base_uri": "https://localhost:8080/"
        },
        "id": "7VI8N7VoxaE1",
        "outputId": "553a1e3b-f77c-4312-e8a4-028d1cdcb439"
      },
      "execution_count": null,
      "outputs": [
        {
          "output_type": "execute_result",
          "data": {
            "text/plain": [
              "tensor([10, 20, 30, 40, 50, 60, 70, 80])"
            ]
          },
          "metadata": {},
          "execution_count": 18
        }
      ]
    },
    {
      "cell_type": "markdown",
      "source": [
        "We can do indexing similar to how we do it in numpy."
      ],
      "metadata": {
        "id": "5b74qAcUxp8E"
      }
    },
    {
      "cell_type": "code",
      "source": [
        "tensors[:4]\n",
        "#tensors[1:3]\n"
      ],
      "metadata": {
        "colab": {
          "base_uri": "https://localhost:8080/"
        },
        "id": "xx5SYXBkxxQG",
        "outputId": "5f27b184-3594-4803-c80c-4aa6f1f4390e"
      },
      "execution_count": null,
      "outputs": [
        {
          "output_type": "execute_result",
          "data": {
            "text/plain": [
              "tensor([10, 20, 30, 40])"
            ]
          },
          "metadata": {},
          "execution_count": 19
        }
      ]
    },
    {
      "cell_type": "code",
      "source": [
        "tensors[2:6]"
      ],
      "metadata": {
        "colab": {
          "base_uri": "https://localhost:8080/"
        },
        "id": "_9QHYvAgzd-Y",
        "outputId": "4b15b668-f862-4023-d43d-651fabc877ac"
      },
      "execution_count": null,
      "outputs": [
        {
          "output_type": "execute_result",
          "data": {
            "text/plain": [
              "tensor([30, 40, 50, 60])"
            ]
          },
          "metadata": {},
          "execution_count": 20
        }
      ]
    },
    {
      "cell_type": "code",
      "source": [
        "tensors[0]"
      ],
      "metadata": {
        "colab": {
          "base_uri": "https://localhost:8080/"
        },
        "id": "a0HQu-6Dzo0z",
        "outputId": "e86725da-2f72-4a58-b1f2-0e1f67d494e5"
      },
      "execution_count": null,
      "outputs": [
        {
          "output_type": "execute_result",
          "data": {
            "text/plain": [
              "tensor(10)"
            ]
          },
          "metadata": {},
          "execution_count": 21
        }
      ]
    },
    {
      "cell_type": "markdown",
      "source": [
        "One of the disadvantage of from_numpy is that both tensor and array uses the same memory location. If we change a one element, it will change in both array and the tensor."
      ],
      "metadata": {
        "id": "klJ0AgoHFVmt"
      }
    },
    {
      "cell_type": "code",
      "source": [
        "tensors[3] = 75\n",
        "tensors\n",
        "arr"
      ],
      "metadata": {
        "colab": {
          "base_uri": "https://localhost:8080/"
        },
        "id": "1ZthwtkcFA-B",
        "outputId": "b15a8f2a-90f6-4410-c79e-858e4b584a92"
      },
      "execution_count": 23,
      "outputs": [
        {
          "output_type": "execute_result",
          "data": {
            "text/plain": [
              "array([10, 20, 30, 75, 50, 60, 70, 80])"
            ]
          },
          "metadata": {},
          "execution_count": 23
        }
      ]
    },
    {
      "cell_type": "markdown",
      "source": [
        "To avoid sharing the same memory location, instead of using \"from_numpy\" we can use the \"torch.tensor\" as shown below."
      ],
      "metadata": {
        "id": "eZYW2U5mFuuE"
      }
    },
    {
      "cell_type": "code",
      "source": [
        "tensor_arr = torch.tensor(arr)\n",
        "tensor_arr"
      ],
      "metadata": {
        "colab": {
          "base_uri": "https://localhost:8080/"
        },
        "id": "TTDTF6kGGCLm",
        "outputId": "4fb3b60c-c939-42ad-ba28-74d45158b15a"
      },
      "execution_count": 25,
      "outputs": [
        {
          "output_type": "execute_result",
          "data": {
            "text/plain": [
              "tensor([10, 20, 30, 75, 50, 60, 70, 80])"
            ]
          },
          "metadata": {},
          "execution_count": 25
        }
      ]
    },
    {
      "cell_type": "markdown",
      "source": [
        "now we will change the 3rd element to 99"
      ],
      "metadata": {
        "id": "oDq9Kx3RGTv3"
      }
    },
    {
      "cell_type": "code",
      "source": [
        "tensor_arr[3] = 99\n",
        "tensor_arr"
      ],
      "metadata": {
        "colab": {
          "base_uri": "https://localhost:8080/"
        },
        "id": "aY7Tf76tGSdl",
        "outputId": "6a8dbdb5-2cab-45a2-b56d-0dd0e59851d8"
      },
      "execution_count": 26,
      "outputs": [
        {
          "output_type": "execute_result",
          "data": {
            "text/plain": [
              "tensor([10, 20, 30, 99, 50, 60, 70, 80])"
            ]
          },
          "metadata": {},
          "execution_count": 26
        }
      ]
    },
    {
      "cell_type": "markdown",
      "source": [
        "creating a tensor with zeros"
      ],
      "metadata": {
        "id": "_uqIOk4tG4E3"
      }
    },
    {
      "cell_type": "code",
      "source": [
        "torch.zeros(3,4,dtype=torch.float64)"
      ],
      "metadata": {
        "colab": {
          "base_uri": "https://localhost:8080/"
        },
        "id": "LIvhQLFmG1u3",
        "outputId": "5b9eb41e-1724-4625-9b9c-cda4b22abe77"
      },
      "execution_count": 28,
      "outputs": [
        {
          "output_type": "execute_result",
          "data": {
            "text/plain": [
              "tensor([[0., 0., 0., 0.],\n",
              "        [0., 0., 0., 0.],\n",
              "        [0., 0., 0., 0.]], dtype=torch.float64)"
            ]
          },
          "metadata": {},
          "execution_count": 28
        }
      ]
    },
    {
      "cell_type": "markdown",
      "source": [
        "creating a tensor with ones"
      ],
      "metadata": {
        "id": "9xcKCY5PHd28"
      }
    },
    {
      "cell_type": "code",
      "source": [
        "\n",
        "torch.ones(3,4,dtype=torch.float64)"
      ],
      "metadata": {
        "colab": {
          "base_uri": "https://localhost:8080/"
        },
        "id": "4zeLi5j1HhcW",
        "outputId": "8a118251-e0c1-446d-bf6d-602f1f03a75e"
      },
      "execution_count": 30,
      "outputs": [
        {
          "output_type": "execute_result",
          "data": {
            "text/plain": [
              "tensor([[1., 1., 1., 1.],\n",
              "        [1., 1., 1., 1.],\n",
              "        [1., 1., 1., 1.]], dtype=torch.float64)"
            ]
          },
          "metadata": {},
          "execution_count": 30
        }
      ]
    },
    {
      "cell_type": "code",
      "source": [
        "t = torch.tensor(np.arange(0,15).reshape(5,3))\n",
        "t"
      ],
      "metadata": {
        "colab": {
          "base_uri": "https://localhost:8080/"
        },
        "id": "NqqXTw_pH8mO",
        "outputId": "1ae183b8-9f11-41e9-b6b7-72bffb3d1f13"
      },
      "execution_count": 32,
      "outputs": [
        {
          "output_type": "execute_result",
          "data": {
            "text/plain": [
              "tensor([[ 0,  1,  2],\n",
              "        [ 3,  4,  5],\n",
              "        [ 6,  7,  8],\n",
              "        [ 9, 10, 11],\n",
              "        [12, 13, 14]])"
            ]
          },
          "metadata": {},
          "execution_count": 32
        }
      ]
    },
    {
      "cell_type": "markdown",
      "source": [
        "accessing the first two columns with all the rows"
      ],
      "metadata": {
        "id": "qrwJHXSeIg_R"
      }
    },
    {
      "cell_type": "code",
      "source": [
        "t[:,0:2]"
      ],
      "metadata": {
        "colab": {
          "base_uri": "https://localhost:8080/"
        },
        "id": "4oupGLbRIn2X",
        "outputId": "15f56ee3-01da-4688-e636-cbffdba8b34a"
      },
      "execution_count": 33,
      "outputs": [
        {
          "output_type": "execute_result",
          "data": {
            "text/plain": [
              "tensor([[ 0,  1],\n",
              "        [ 3,  4],\n",
              "        [ 6,  7],\n",
              "        [ 9, 10],\n",
              "        [12, 13]])"
            ]
          },
          "metadata": {},
          "execution_count": 33
        }
      ]
    },
    {
      "cell_type": "markdown",
      "source": [
        "now we will perform some basic mathematical operations such as addition and substractions with tensors."
      ],
      "metadata": {
        "id": "5JNHUq3nIysX"
      }
    },
    {
      "cell_type": "markdown",
      "source": [
        "Addition Operation"
      ],
      "metadata": {
        "id": "FUN3sW7HI8Gw"
      }
    },
    {
      "cell_type": "code",
      "source": [
        "t1 = torch.tensor([1,2,3], dtype=torch.float64)\n",
        "t2 = torch.tensor([4,5,6], dtype=torch.float64)\n",
        "print(t1 + t2)"
      ],
      "metadata": {
        "colab": {
          "base_uri": "https://localhost:8080/"
        },
        "id": "jcPYA0_HI_6z",
        "outputId": "46102c77-893c-4efb-a0f0-11da5497de54"
      },
      "execution_count": 35,
      "outputs": [
        {
          "output_type": "stream",
          "name": "stdout",
          "text": [
            "tensor([5., 7., 9.], dtype=torch.float64)\n"
          ]
        }
      ]
    },
    {
      "cell_type": "code",
      "source": [
        "torch.add(t1,t2)"
      ],
      "metadata": {
        "colab": {
          "base_uri": "https://localhost:8080/"
        },
        "id": "lqVEJNDbJsx6",
        "outputId": "b416fd55-ec14-4b10-80a8-2189ae1da938"
      },
      "execution_count": 37,
      "outputs": [
        {
          "output_type": "execute_result",
          "data": {
            "text/plain": [
              "tensor([5., 7., 9.], dtype=torch.float64)"
            ]
          },
          "metadata": {},
          "execution_count": 37
        }
      ]
    },
    {
      "cell_type": "markdown",
      "source": [
        "Substration Operation"
      ],
      "metadata": {
        "id": "x1-e2ZF7Jlet"
      }
    },
    {
      "cell_type": "code",
      "source": [
        "print(t1 - t2)"
      ],
      "metadata": {
        "colab": {
          "base_uri": "https://localhost:8080/"
        },
        "id": "6y3sOhjSJ3ZW",
        "outputId": "011b1352-bf5a-4d21-a211-84c08394ffb0"
      },
      "execution_count": 38,
      "outputs": [
        {
          "output_type": "stream",
          "name": "stdout",
          "text": [
            "tensor([-3., -3., -3.], dtype=torch.float64)\n"
          ]
        }
      ]
    },
    {
      "cell_type": "code",
      "source": [
        "torch.sub(t1,t2)"
      ],
      "metadata": {
        "colab": {
          "base_uri": "https://localhost:8080/"
        },
        "id": "MjePS6N0KAL-",
        "outputId": "c4eb9ad7-f0bc-488d-9d59-f3943451da3a"
      },
      "execution_count": 39,
      "outputs": [
        {
          "output_type": "execute_result",
          "data": {
            "text/plain": [
              "tensor([-3., -3., -3.], dtype=torch.float64)"
            ]
          },
          "metadata": {},
          "execution_count": 39
        }
      ]
    },
    {
      "cell_type": "markdown",
      "source": [
        "now we will add two tensors and assign the results to another tensor "
      ],
      "metadata": {
        "id": "-5AlGYYsKJo6"
      }
    },
    {
      "cell_type": "code",
      "source": [
        "t3 = torch.zeros(3,dtype=torch.float64)\n",
        "t3"
      ],
      "metadata": {
        "colab": {
          "base_uri": "https://localhost:8080/"
        },
        "id": "WPqodDa9KUbh",
        "outputId": "8ab1e684-2aa5-4921-a076-b0514d977272"
      },
      "execution_count": 41,
      "outputs": [
        {
          "output_type": "execute_result",
          "data": {
            "text/plain": [
              "tensor([0., 0., 0.], dtype=torch.float64)"
            ]
          },
          "metadata": {},
          "execution_count": 41
        }
      ]
    },
    {
      "cell_type": "code",
      "source": [
        "torch.add(t1,t2, out=t3)\n",
        "t3"
      ],
      "metadata": {
        "colab": {
          "base_uri": "https://localhost:8080/"
        },
        "id": "RUi8QkyMKhxL",
        "outputId": "47b31b14-41ea-4aa4-f835-9edd5c42b0cd"
      },
      "execution_count": 42,
      "outputs": [
        {
          "output_type": "execute_result",
          "data": {
            "text/plain": [
              "tensor([5., 7., 9.], dtype=torch.float64)"
            ]
          },
          "metadata": {},
          "execution_count": 42
        }
      ]
    },
    {
      "cell_type": "markdown",
      "source": [
        "Multiplication operations: Dot Product"
      ],
      "metadata": {
        "id": "V07hG_tGXzkm"
      }
    },
    {
      "cell_type": "code",
      "source": [
        "# using the mul() \n",
        "t1.mul(t2)"
      ],
      "metadata": {
        "colab": {
          "base_uri": "https://localhost:8080/"
        },
        "id": "zBzLhCKhX6wq",
        "outputId": "ee706de9-d65d-4250-f885-198cfa3a5d31"
      },
      "execution_count": 43,
      "outputs": [
        {
          "output_type": "execute_result",
          "data": {
            "text/plain": [
              "tensor([ 4., 10., 18.], dtype=torch.float64)"
            ]
          },
          "metadata": {},
          "execution_count": 43
        }
      ]
    },
    {
      "cell_type": "code",
      "source": [
        "# using the dot() for dot product\n",
        "t1.dot(t2)"
      ],
      "metadata": {
        "colab": {
          "base_uri": "https://localhost:8080/"
        },
        "id": "-qsWSrRmYQIL",
        "outputId": "55048afb-02e6-44dc-f122-2ed80d1398b7"
      },
      "execution_count": 44,
      "outputs": [
        {
          "output_type": "execute_result",
          "data": {
            "text/plain": [
              "tensor(32., dtype=torch.float64)"
            ]
          },
          "metadata": {},
          "execution_count": 44
        }
      ]
    },
    {
      "cell_type": "markdown",
      "source": [
        "Matrix Multiplication Example\n"
      ],
      "metadata": {
        "id": "rBtTLQ46Ydnq"
      }
    },
    {
      "cell_type": "code",
      "source": [
        "m1 = torch.tensor([[2,3,4], [5,6,7]], dtype=torch.float64)\n",
        "m2 = torch.tensor([[5,6],[7,8],[10,11]],dtype=torch.float64)"
      ],
      "metadata": {
        "id": "eQD8P5oWZmPb"
      },
      "execution_count": 50,
      "outputs": []
    },
    {
      "cell_type": "code",
      "source": [
        "# matrix multiplication using the matmul()\n",
        "torch.matmul(m1,m2)"
      ],
      "metadata": {
        "colab": {
          "base_uri": "https://localhost:8080/"
        },
        "id": "b-H_9I8AZR19",
        "outputId": "fbe50c0d-a1f1-4f76-d2ec-e47528192f7d"
      },
      "execution_count": 51,
      "outputs": [
        {
          "output_type": "execute_result",
          "data": {
            "text/plain": [
              "tensor([[ 71.,  80.],\n",
              "        [137., 155.]], dtype=torch.float64)"
            ]
          },
          "metadata": {},
          "execution_count": 51
        }
      ]
    },
    {
      "cell_type": "code",
      "source": [
        "# same matrix multiplication can be done using the mm()\n",
        "torch.mm(m1,m2)"
      ],
      "metadata": {
        "colab": {
          "base_uri": "https://localhost:8080/"
        },
        "id": "qmufU2EwZ-Hc",
        "outputId": "3c22e41f-2fa7-4112-916b-90af10237379"
      },
      "execution_count": 52,
      "outputs": [
        {
          "output_type": "execute_result",
          "data": {
            "text/plain": [
              "tensor([[ 71.,  80.],\n",
              "        [137., 155.]], dtype=torch.float64)"
            ]
          },
          "metadata": {},
          "execution_count": 52
        }
      ]
    },
    {
      "cell_type": "code",
      "source": [
        "# same matrix multiplication can be done using \"@\"\n",
        "m1@m2"
      ],
      "metadata": {
        "colab": {
          "base_uri": "https://localhost:8080/"
        },
        "id": "X3uhphaGaJNi",
        "outputId": "8d30019d-da83-4d32-d460-813955a44867"
      },
      "execution_count": 53,
      "outputs": [
        {
          "output_type": "execute_result",
          "data": {
            "text/plain": [
              "tensor([[ 71.,  80.],\n",
              "        [137., 155.]], dtype=torch.float64)"
            ]
          },
          "metadata": {},
          "execution_count": 53
        }
      ]
    }
  ]
}