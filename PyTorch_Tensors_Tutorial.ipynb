{
  "nbformat": 4,
  "nbformat_minor": 0,
  "metadata": {
    "colab": {
      "name": "PyTorch_Tensors_Tutorial.ipynb",
      "provenance": [],
      "authorship_tag": "ABX9TyO/Z6t32XwwyNksVjQlXQtF",
      "include_colab_link": true
    },
    "kernelspec": {
      "name": "python3",
      "display_name": "Python 3"
    },
    "language_info": {
      "name": "python"
    }
  },
  "cells": [
    {
      "cell_type": "markdown",
      "metadata": {
        "id": "view-in-github",
        "colab_type": "text"
      },
      "source": [
        "<a href=\"https://colab.research.google.com/github/thilankam/PyTorch_Tutorials/blob/main/PyTorch_Tensors_Tutorial.ipynb\" target=\"_parent\"><img src=\"https://colab.research.google.com/assets/colab-badge.svg\" alt=\"Open In Colab\"/></a>"
      ]
    },
    {
      "cell_type": "code",
      "execution_count": null,
      "metadata": {
        "id": "61Zzec-JvToe"
      },
      "outputs": [],
      "source": [
        ""
      ]
    },
    {
      "cell_type": "markdown",
      "source": [
        "#Tensors\n",
        "This tutorial is based on the Tensors. A tensor is a generalization of vectors and matrices and is easily understood as multidimentional array. \n",
        "Tensors are a type of data structures used in liner algebra (similar to vectors and matrices). \n",
        "We can use to calculate arithmetic operations tensors."
      ],
      "metadata": {
        "id": "ZunL29XAvgDa"
      }
    },
    {
      "cell_type": "code",
      "source": [
        "import torch\n",
        "torch.__version__\n",
        "import numpy as np\n",
        "lst = [10,20,30,40,50,60,70,80]\n",
        "# creating a numpy array using the list\n",
        "arr = np.array(lst)\n",
        "arr \n",
        "# checking the data type\n",
        "arr.dtype"
      ],
      "metadata": {
        "colab": {
          "base_uri": "https://localhost:8080/"
        },
        "id": "LzoK0oGawPLN",
        "outputId": "0a91d470-63aa-4c44-8119-f7e45aecfa53"
      },
      "execution_count": null,
      "outputs": [
        {
          "output_type": "execute_result",
          "data": {
            "text/plain": [
              "dtype('int64')"
            ]
          },
          "metadata": {},
          "execution_count": 17
        }
      ]
    },
    {
      "cell_type": "markdown",
      "source": [
        "Now we will convert from Numpy to Tensor"
      ],
      "metadata": {
        "id": "pliissUhxSGU"
      }
    },
    {
      "cell_type": "code",
      "source": [
        "tensors = torch.from_numpy(arr)\n",
        "tensors"
      ],
      "metadata": {
        "colab": {
          "base_uri": "https://localhost:8080/"
        },
        "id": "7VI8N7VoxaE1",
        "outputId": "553a1e3b-f77c-4312-e8a4-028d1cdcb439"
      },
      "execution_count": null,
      "outputs": [
        {
          "output_type": "execute_result",
          "data": {
            "text/plain": [
              "tensor([10, 20, 30, 40, 50, 60, 70, 80])"
            ]
          },
          "metadata": {},
          "execution_count": 18
        }
      ]
    },
    {
      "cell_type": "markdown",
      "source": [
        "We can do indexing similar to how we do it in numpy."
      ],
      "metadata": {
        "id": "5b74qAcUxp8E"
      }
    },
    {
      "cell_type": "code",
      "source": [
        "tensors[:4]\n",
        "#tensors[1:3]\n"
      ],
      "metadata": {
        "colab": {
          "base_uri": "https://localhost:8080/"
        },
        "id": "xx5SYXBkxxQG",
        "outputId": "5f27b184-3594-4803-c80c-4aa6f1f4390e"
      },
      "execution_count": null,
      "outputs": [
        {
          "output_type": "execute_result",
          "data": {
            "text/plain": [
              "tensor([10, 20, 30, 40])"
            ]
          },
          "metadata": {},
          "execution_count": 19
        }
      ]
    },
    {
      "cell_type": "code",
      "source": [
        "tensors[2:6]"
      ],
      "metadata": {
        "colab": {
          "base_uri": "https://localhost:8080/"
        },
        "id": "_9QHYvAgzd-Y",
        "outputId": "4b15b668-f862-4023-d43d-651fabc877ac"
      },
      "execution_count": null,
      "outputs": [
        {
          "output_type": "execute_result",
          "data": {
            "text/plain": [
              "tensor([30, 40, 50, 60])"
            ]
          },
          "metadata": {},
          "execution_count": 20
        }
      ]
    },
    {
      "cell_type": "code",
      "source": [
        "tensors[0]"
      ],
      "metadata": {
        "colab": {
          "base_uri": "https://localhost:8080/"
        },
        "id": "a0HQu-6Dzo0z",
        "outputId": "e86725da-2f72-4a58-b1f2-0e1f67d494e5"
      },
      "execution_count": null,
      "outputs": [
        {
          "output_type": "execute_result",
          "data": {
            "text/plain": [
              "tensor(10)"
            ]
          },
          "metadata": {},
          "execution_count": 21
        }
      ]
    }
  ]
}