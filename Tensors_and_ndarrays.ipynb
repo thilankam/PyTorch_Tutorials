{
  "nbformat": 4,
  "nbformat_minor": 0,
  "metadata": {
    "colab": {
      "provenance": [],
      "authorship_tag": "ABX9TyOUVCvTNe7S+WkAbLwPztc/",
      "include_colab_link": true
    },
    "kernelspec": {
      "name": "python3",
      "display_name": "Python 3"
    },
    "language_info": {
      "name": "python"
    }
  },
  "cells": [
    {
      "cell_type": "markdown",
      "metadata": {
        "id": "view-in-github",
        "colab_type": "text"
      },
      "source": [
        "<a href=\"https://colab.research.google.com/github/thilankam/PyTorch_Tutorials/blob/main/Tensors_and_ndarrays.ipynb\" target=\"_parent\"><img src=\"https://colab.research.google.com/assets/colab-badge.svg\" alt=\"Open In Colab\"/></a>"
      ]
    },
    {
      "cell_type": "code",
      "execution_count": 2,
      "metadata": {
        "id": "-kmJXasrZ747"
      },
      "outputs": [],
      "source": [
        "import numpy as np\n",
        "import torch\n",
        "arr1d = np.array([1,2,3,4,5])\n",
        "# 2-D array\n",
        "arr2d = np.array([[1,2,3],[4,5,6]])\n",
        "\n",
        "# 3-D array\n",
        "arr3d = np.array([[[1,2],[3,4]],[[5,6],[7,8]]])"
      ]
    },
    {
      "cell_type": "code",
      "source": [
        "arr1d[2]\n",
        "arr2d[1,1]\n",
        "arr3d[0,1,1]\n",
        "arr3d[1,1,0]\n",
        "arr3d[1,0,1]\n",
        "arr3d[0,1,1]"
      ],
      "metadata": {
        "colab": {
          "base_uri": "https://localhost:8080/"
        },
        "id": "PW01RA55ceRp",
        "outputId": "edf24305-3f75-4c19-fd89-d81292f5cf27"
      },
      "execution_count": 3,
      "outputs": [
        {
          "output_type": "execute_result",
          "data": {
            "text/plain": [
              "4"
            ]
          },
          "metadata": {},
          "execution_count": 3
        }
      ]
    },
    {
      "cell_type": "code",
      "source": [
        "x = torch.rand(5,3)\n",
        "print(x[1,1].item())"
      ],
      "metadata": {
        "id": "OwQtWduMzfMd",
        "colab": {
          "base_uri": "https://localhost:8080/"
        },
        "outputId": "df8724df-1134-40e0-ced0-3a4967e3ed9a"
      },
      "execution_count": 8,
      "outputs": [
        {
          "output_type": "stream",
          "name": "stdout",
          "text": [
            "0.23168140649795532\n"
          ]
        }
      ]
    },
    {
      "cell_type": "code",
      "source": [
        "# reshaping a tensor\n",
        "x = torch.rand(4,4)\n",
        "print(x)\n",
        "y = x.view(16)\n",
        "\n",
        "print(y)"
      ],
      "metadata": {
        "colab": {
          "base_uri": "https://localhost:8080/"
        },
        "id": "4Sx0ZVpf3x1N",
        "outputId": "445e3bc9-2db7-47be-a3c5-7474caf80f90"
      },
      "execution_count": 13,
      "outputs": [
        {
          "output_type": "stream",
          "name": "stdout",
          "text": [
            "tensor([[0.8298, 0.4483, 0.6898, 0.0017],\n",
            "        [0.0546, 0.4307, 0.5032, 0.9601],\n",
            "        [0.8921, 0.3677, 0.8962, 0.8396],\n",
            "        [0.4189, 0.3484, 0.8040, 0.4942]])\n",
            "tensor([0.8298, 0.4483, 0.6898, 0.0017, 0.0546, 0.4307, 0.5032, 0.9601, 0.8921,\n",
            "        0.3677, 0.8962, 0.8396, 0.4189, 0.3484, 0.8040, 0.4942])\n"
          ]
        }
      ]
    },
    {
      "cell_type": "code",
      "source": [
        "# without specifiying the dimention\n",
        "y = x.view(-1,8)\n",
        "print(y)\n",
        "print(y.size())"
      ],
      "metadata": {
        "colab": {
          "base_uri": "https://localhost:8080/"
        },
        "id": "KrN3AMaX4ZNc",
        "outputId": "76743d2c-260a-413f-eafe-ef155e2d0003"
      },
      "execution_count": 16,
      "outputs": [
        {
          "output_type": "stream",
          "name": "stdout",
          "text": [
            "tensor([[0.8298, 0.4483, 0.6898, 0.0017, 0.0546, 0.4307, 0.5032, 0.9601],\n",
            "        [0.8921, 0.3677, 0.8962, 0.8396, 0.4189, 0.3484, 0.8040, 0.4942]])\n",
            "torch.Size([2, 8])\n"
          ]
        }
      ]
    },
    {
      "cell_type": "code",
      "source": [
        "# converting numpy to torch tensor\n",
        "a = torch.ones(5)\n",
        "print(a)\n",
        "\n",
        "b = a.numpy()\n",
        "print(b)\n",
        "print(type(b))"
      ],
      "metadata": {
        "colab": {
          "base_uri": "https://localhost:8080/"
        },
        "id": "c8L2VmPn4197",
        "outputId": "520a32fc-1971-499e-a63f-5c5330b5ee67"
      },
      "execution_count": 27,
      "outputs": [
        {
          "output_type": "stream",
          "name": "stdout",
          "text": [
            "tensor([1., 1., 1., 1., 1.])\n",
            "[1. 1. 1. 1. 1.]\n",
            "<class 'numpy.ndarray'>\n"
          ]
        }
      ]
    },
    {
      "cell_type": "code",
      "source": [
        "# if the tensor is on CPU, both tensors wiill share the same memory location\n",
        "# and if we change one, it will change the other\n",
        "a.add_(1)\n",
        "print(a)\n",
        "print(b)"
      ],
      "metadata": {
        "colab": {
          "base_uri": "https://localhost:8080/"
        },
        "id": "84nSpRfF5oHd",
        "outputId": "e332fd1b-75c4-40d4-c6a8-83c56f5522d5"
      },
      "execution_count": 29,
      "outputs": [
        {
          "output_type": "stream",
          "name": "stdout",
          "text": [
            "tensor([3., 3., 3., 3., 3.])\n",
            "[3. 3. 3. 3. 3.]\n"
          ]
        }
      ]
    },
    {
      "cell_type": "code",
      "source": [
        "\n",
        "\n",
        "a = np.ones(5)\n",
        "print(a)\n",
        "b = torch.from_numpy(a)\n",
        "print(b)\n",
        "\n",
        "a =+ 1\n",
        "\n",
        "print(a)\n"
      ],
      "metadata": {
        "colab": {
          "base_uri": "https://localhost:8080/"
        },
        "id": "_koWaiBj6ZsM",
        "outputId": "f25cc8ae-e7a0-433e-f50e-71ebf6987d58"
      },
      "execution_count": 43,
      "outputs": [
        {
          "output_type": "stream",
          "name": "stdout",
          "text": [
            "[1. 1. 1. 1. 1.]\n",
            "tensor([1., 1., 1., 1., 1.], dtype=torch.float64)\n",
            "1\n"
          ]
        }
      ]
    }
  ]
}