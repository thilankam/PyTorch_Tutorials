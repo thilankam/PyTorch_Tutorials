{
  "nbformat": 4,
  "nbformat_minor": 0,
  "metadata": {
    "colab": {
      "provenance": [],
      "authorship_tag": "ABX9TyM/+9qdKFLmAEAqJsFAbM3S",
      "include_colab_link": true
    },
    "kernelspec": {
      "name": "python3",
      "display_name": "Python 3"
    },
    "language_info": {
      "name": "python"
    }
  },
  "cells": [
    {
      "cell_type": "markdown",
      "metadata": {
        "id": "view-in-github",
        "colab_type": "text"
      },
      "source": [
        "<a href=\"https://colab.research.google.com/github/thilankam/PyTorch_Tutorials/blob/main/Tensors_and_ndarrays.ipynb\" target=\"_parent\"><img src=\"https://colab.research.google.com/assets/colab-badge.svg\" alt=\"Open In Colab\"/></a>"
      ]
    },
    {
      "cell_type": "code",
      "execution_count": 17,
      "metadata": {
        "id": "-kmJXasrZ747"
      },
      "outputs": [],
      "source": [
        "import numpy as np\n",
        "import torch\n",
        "arr1d = np.array([1,2,3,4,5])\n",
        "# 2-D array\n",
        "arr2d = np.array([[1,2,3],[4,5,6]])\n",
        "\n",
        "# 3-D array\n",
        "arr3d = np.array([[[1,2],[3,4]],[[5,6],[7,8]]])"
      ]
    },
    {
      "cell_type": "code",
      "source": [
        "arr1d[2]\n",
        "arr2d[1,1]\n",
        "arr3d[0,1,1]\n",
        "arr3d[1,1,0]\n",
        "arr3d[1,0,1]\n",
        "arr3d[0,1,1]"
      ],
      "metadata": {
        "colab": {
          "base_uri": "https://localhost:8080/"
        },
        "id": "PW01RA55ceRp",
        "outputId": "edf24305-3f75-4c19-fd89-d81292f5cf27"
      },
      "execution_count": null,
      "outputs": [
        {
          "output_type": "execute_result",
          "data": {
            "text/plain": [
              "4"
            ]
          },
          "metadata": {},
          "execution_count": 3
        }
      ]
    },
    {
      "cell_type": "code",
      "source": [
        "x = torch.rand(5,3)\n",
        "print(x[1,1].item())"
      ],
      "metadata": {
        "id": "OwQtWduMzfMd",
        "colab": {
          "base_uri": "https://localhost:8080/"
        },
        "outputId": "df8724df-1134-40e0-ced0-3a4967e3ed9a"
      },
      "execution_count": null,
      "outputs": [
        {
          "output_type": "stream",
          "name": "stdout",
          "text": [
            "0.23168140649795532\n"
          ]
        }
      ]
    },
    {
      "cell_type": "code",
      "source": [
        "# reshaping a tensor\n",
        "x = torch.rand(4,4)\n",
        "print(x)\n",
        "y = x.view(16)\n",
        "\n",
        "print(y)"
      ],
      "metadata": {
        "colab": {
          "base_uri": "https://localhost:8080/"
        },
        "id": "4Sx0ZVpf3x1N",
        "outputId": "445e3bc9-2db7-47be-a3c5-7474caf80f90"
      },
      "execution_count": null,
      "outputs": [
        {
          "output_type": "stream",
          "name": "stdout",
          "text": [
            "tensor([[0.8298, 0.4483, 0.6898, 0.0017],\n",
            "        [0.0546, 0.4307, 0.5032, 0.9601],\n",
            "        [0.8921, 0.3677, 0.8962, 0.8396],\n",
            "        [0.4189, 0.3484, 0.8040, 0.4942]])\n",
            "tensor([0.8298, 0.4483, 0.6898, 0.0017, 0.0546, 0.4307, 0.5032, 0.9601, 0.8921,\n",
            "        0.3677, 0.8962, 0.8396, 0.4189, 0.3484, 0.8040, 0.4942])\n"
          ]
        }
      ]
    },
    {
      "cell_type": "code",
      "source": [
        "# without specifiying the dimention\n",
        "y = x.view(-1,8)\n",
        "print(y)\n",
        "print(y.size())"
      ],
      "metadata": {
        "colab": {
          "base_uri": "https://localhost:8080/"
        },
        "id": "KrN3AMaX4ZNc",
        "outputId": "76743d2c-260a-413f-eafe-ef155e2d0003"
      },
      "execution_count": null,
      "outputs": [
        {
          "output_type": "stream",
          "name": "stdout",
          "text": [
            "tensor([[0.8298, 0.4483, 0.6898, 0.0017, 0.0546, 0.4307, 0.5032, 0.9601],\n",
            "        [0.8921, 0.3677, 0.8962, 0.8396, 0.4189, 0.3484, 0.8040, 0.4942]])\n",
            "torch.Size([2, 8])\n"
          ]
        }
      ]
    },
    {
      "cell_type": "code",
      "source": [
        "# converting numpy to torch tensor\n",
        "a = torch.ones(5)\n",
        "print(a)\n",
        "\n",
        "b = a.numpy()\n",
        "print(b)\n",
        "print(type(b))"
      ],
      "metadata": {
        "colab": {
          "base_uri": "https://localhost:8080/"
        },
        "id": "c8L2VmPn4197",
        "outputId": "520a32fc-1971-499e-a63f-5c5330b5ee67"
      },
      "execution_count": null,
      "outputs": [
        {
          "output_type": "stream",
          "name": "stdout",
          "text": [
            "tensor([1., 1., 1., 1., 1.])\n",
            "[1. 1. 1. 1. 1.]\n",
            "<class 'numpy.ndarray'>\n"
          ]
        }
      ]
    },
    {
      "cell_type": "code",
      "source": [
        "# if the tensor is on CPU, both tensors wiill share the same memory location\n",
        "# and if we change one, it will change the other\n",
        "a.add_(1)\n",
        "print(a)\n",
        "print(b)"
      ],
      "metadata": {
        "colab": {
          "base_uri": "https://localhost:8080/"
        },
        "id": "84nSpRfF5oHd",
        "outputId": "e332fd1b-75c4-40d4-c6a8-83c56f5522d5"
      },
      "execution_count": null,
      "outputs": [
        {
          "output_type": "stream",
          "name": "stdout",
          "text": [
            "tensor([3., 3., 3., 3., 3.])\n",
            "[3. 3. 3. 3. 3.]\n"
          ]
        }
      ]
    },
    {
      "cell_type": "code",
      "source": [
        "\n",
        "\n",
        "a = np.ones(5)\n",
        "print(a)\n",
        "b = torch.from_numpy(a)\n",
        "print(b)\n",
        "\n"
      ],
      "metadata": {
        "colab": {
          "base_uri": "https://localhost:8080/"
        },
        "id": "_koWaiBj6ZsM",
        "outputId": "f7d62847-2637-4509-f4b0-a427f21df354"
      },
      "execution_count": null,
      "outputs": [
        {
          "output_type": "stream",
          "name": "stdout",
          "text": [
            "[1. 1. 1. 1. 1.]\n",
            "tensor([1., 1., 1., 1., 1.], dtype=torch.float64)\n"
          ]
        }
      ]
    },
    {
      "cell_type": "code",
      "source": [
        "a += 1\n",
        "\n",
        "print(a)\n",
        "\n",
        "print(b)"
      ],
      "metadata": {
        "colab": {
          "base_uri": "https://localhost:8080/"
        },
        "id": "ua6P1kay8f3d",
        "outputId": "bf961619-e15d-4446-c54c-8ddb95fcc73e"
      },
      "execution_count": null,
      "outputs": [
        {
          "output_type": "stream",
          "name": "stdout",
          "text": [
            "[4. 4. 4. 4. 4.]\n",
            "tensor([4., 4., 4., 4., 4.], dtype=torch.float64)\n"
          ]
        }
      ]
    },
    {
      "cell_type": "markdown",
      "source": [
        "numpy can only handle the CPU tensors "
      ],
      "metadata": {
        "id": "p7pouFUgAfBo"
      }
    },
    {
      "cell_type": "code",
      "source": [
        "\n",
        "from torch.cuda import is_available\n",
        "if torch.cuda.is_available():\n",
        "   device = torch.device(\"cuda\")\n",
        "   x = torch.ones(5, device = device)\n",
        "   y = torch.ones(5)\n",
        "   y = y.to(device)\n",
        "   z = x + y\n",
        "   z = z.to(\"cpu\")\n",
        "   print(z)\n"
      ],
      "metadata": {
        "id": "42FyiNI3-1U6"
      },
      "execution_count": null,
      "outputs": []
    },
    {
      "cell_type": "markdown",
      "source": [
        "`requires_grad= True` will tell pytorch that it will need to calculate the gradients for the tensor later in the optimization step "
      ],
      "metadata": {
        "id": "1s1g3fF4UKlq"
      }
    },
    {
      "cell_type": "code",
      "source": [
        "x = torch.ones(5, requires_grad= True)\n",
        "print(x )"
      ],
      "metadata": {
        "colab": {
          "base_uri": "https://localhost:8080/"
        },
        "id": "ozZbbP_sADYD",
        "outputId": "521dd311-9038-48d6-f989-b8e176d93aa7"
      },
      "execution_count": 18,
      "outputs": [
        {
          "output_type": "stream",
          "name": "stdout",
          "text": [
            "tensor([1., 1., 1., 1., 1.], requires_grad=True)\n"
          ]
        }
      ]
    },
    {
      "cell_type": "code",
      "source": [
        "x = torch.randn(3, requires_grad=True)\n",
        "print(x)\n",
        "y = x + 2\n",
        "print(y)"
      ],
      "metadata": {
        "colab": {
          "base_uri": "https://localhost:8080/"
        },
        "id": "YGDQ2i9GT755",
        "outputId": "fdcf5ba5-d09b-40a4-c76b-8e41f314e5a1"
      },
      "execution_count": 23,
      "outputs": [
        {
          "output_type": "stream",
          "name": "stdout",
          "text": [
            "tensor([ 0.3205,  0.7865, -1.1762], requires_grad=True)\n",
            "tensor([2.3205, 2.7865, 0.8238], grad_fn=<AddBackward0>)\n"
          ]
        }
      ]
    },
    {
      "cell_type": "code",
      "source": [
        "z = y*y*2\n",
        "#z = z.mean()\n",
        "print(z)"
      ],
      "metadata": {
        "colab": {
          "base_uri": "https://localhost:8080/"
        },
        "id": "nYmI2ZZ4BUIn",
        "outputId": "66f99c9c-386e-46c8-9383-aefa9e1cbf7e"
      },
      "execution_count": 32,
      "outputs": [
        {
          "output_type": "stream",
          "name": "stdout",
          "text": [
            "tensor([10.7693, 15.5288,  1.3573], grad_fn=<MulBackward0>)\n"
          ]
        }
      ]
    },
    {
      "cell_type": "code",
      "source": [
        "\n",
        "# calculate the gradient\n",
        "v = torch.tensor([0.1, 1.0, 0.001], dtype= torch.float32)\n",
        "z.backward(v) # dz/dx\n",
        "print(x.grad)"
      ],
      "metadata": {
        "colab": {
          "base_uri": "https://localhost:8080/"
        },
        "id": "PLCpvn2VC2Rp",
        "outputId": "621916b4-1509-4d6a-ff43-521ad144fb83"
      },
      "execution_count": 33,
      "outputs": [
        {
          "output_type": "stream",
          "name": "stdout",
          "text": [
            "tensor([1.8564e+00, 2.2292e+01, 6.5903e-03])\n"
          ]
        }
      ]
    }
  ]
}