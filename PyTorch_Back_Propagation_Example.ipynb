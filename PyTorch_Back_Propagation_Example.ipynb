{
  "nbformat": 4,
  "nbformat_minor": 0,
  "metadata": {
    "colab": {
      "name": "PyTorch_Back_Propagation_Example.ipynb",
      "provenance": [],
      "authorship_tag": "ABX9TyOoCIw3QPHmp0PY7eA6Dhcx",
      "include_colab_link": true
    },
    "kernelspec": {
      "name": "python3",
      "display_name": "Python 3"
    },
    "language_info": {
      "name": "python"
    }
  },
  "cells": [
    {
      "cell_type": "markdown",
      "metadata": {
        "id": "view-in-github",
        "colab_type": "text"
      },
      "source": [
        "<a href=\"https://colab.research.google.com/github/thilankam/PyTorch_Tutorials/blob/main/PyTorch_Back_Propagation_Example.ipynb\" target=\"_parent\"><img src=\"https://colab.research.google.com/assets/colab-badge.svg\" alt=\"Open In Colab\"/></a>"
      ]
    },
    {
      "cell_type": "markdown",
      "source": [
        "Simple Back Propagation using the PyTorch \n",
        "We will use the simple equation y = x^2\n",
        "we will find the first derivative of y with respect to x"
      ],
      "metadata": {
        "id": "GaZlpK5nb6qL"
      }
    },
    {
      "cell_type": "code",
      "source": [
        "import torch"
      ],
      "metadata": {
        "id": "xnOUSStRchVW"
      },
      "execution_count": 1,
      "outputs": []
    },
    {
      "cell_type": "code",
      "source": [
        "# creating a tensor and assigning a value\n",
        "# here we will create a tensor x with value given 5.0  \n",
        "# in order to do the back propagation, we need to track the gradient\n",
        "# therefore, we will assign \"requires_grad=True\"\n",
        "x = torch.tensor(5.0,requires_grad=True)"
      ],
      "metadata": {
        "id": "z5L2czQuc7Ng"
      },
      "execution_count": 3,
      "outputs": []
    },
    {
      "cell_type": "code",
      "source": [
        "x"
      ],
      "metadata": {
        "colab": {
          "base_uri": "https://localhost:8080/"
        },
        "id": "IwdKEz2OeYxJ",
        "outputId": "29d1f357-6ad4-4ae4-8ce8-5e2381dd804b"
      },
      "execution_count": 4,
      "outputs": [
        {
          "output_type": "execute_result",
          "data": {
            "text/plain": [
              "tensor(5., requires_grad=True)"
            ]
          },
          "metadata": {},
          "execution_count": 4
        }
      ]
    },
    {
      "cell_type": "code",
      "source": [
        "y = x**2\n",
        "y"
      ],
      "metadata": {
        "colab": {
          "base_uri": "https://localhost:8080/"
        },
        "id": "RuyukoIxebd5",
        "outputId": "fa37d3b4-7e57-4526-c187-b1b80aa38e20"
      },
      "execution_count": 6,
      "outputs": [
        {
          "output_type": "execute_result",
          "data": {
            "text/plain": [
              "tensor(25., grad_fn=<PowBackward0>)"
            ]
          },
          "metadata": {},
          "execution_count": 6
        }
      ]
    },
    {
      "cell_type": "markdown",
      "source": [
        "In Back Propagation, we need to get the derivative:   y=2*x\n"
      ],
      "metadata": {
        "id": "Do5d30UierDM"
      }
    },
    {
      "cell_type": "code",
      "source": [
        "# Computing the gradient of current tensor\n",
        "y.backward()"
      ],
      "metadata": {
        "id": "BBU4W8PZe-Ug"
      },
      "execution_count": 7,
      "outputs": []
    },
    {
      "cell_type": "code",
      "source": [
        "print(x.grad)"
      ],
      "metadata": {
        "colab": {
          "base_uri": "https://localhost:8080/"
        },
        "id": "hC-K-F6kftN5",
        "outputId": "2fd77720-5679-46cd-c082-4f6ecb4afaac"
      },
      "execution_count": 8,
      "outputs": [
        {
          "output_type": "stream",
          "name": "stdout",
          "text": [
            "tensor(10.)\n"
          ]
        }
      ]
    },
    {
      "cell_type": "code",
      "source": [
        "lst1 = [[2.,3.,4.],[3.,4.,5.],[7.,5.,9.]]\n",
        "torch_input = torch.tensor(lst1,requires_grad=True)"
      ],
      "metadata": {
        "id": "tLwLneHgf8j6"
      },
      "execution_count": 9,
      "outputs": []
    },
    {
      "cell_type": "markdown",
      "source": [
        "torch_input"
      ],
      "metadata": {
        "id": "DMZOxiroyYpR"
      }
    },
    {
      "cell_type": "code",
      "source": [
        "# y = x**3 + x**2\n",
        "# dy_dx = 3x**2 + 2X \n",
        "y= 3*(torch_input**2) + torch_input*2\n",
        "y "
      ],
      "metadata": {
        "colab": {
          "base_uri": "https://localhost:8080/"
        },
        "id": "idOEFAWnyw2n",
        "outputId": "9f01df9c-f522-48c2-c76c-4a954654771a"
      },
      "execution_count": 12,
      "outputs": [
        {
          "output_type": "execute_result",
          "data": {
            "text/plain": [
              "tensor([[ 16.,  33.,  56.],\n",
              "        [ 33.,  56.,  85.],\n",
              "        [161.,  85., 261.]], grad_fn=<AddBackward0>)"
            ]
          },
          "metadata": {},
          "execution_count": 12
        }
      ]
    },
    {
      "cell_type": "code",
      "source": [
        "z = y.sum()\n",
        "z"
      ],
      "metadata": {
        "colab": {
          "base_uri": "https://localhost:8080/"
        },
        "id": "y4kpE0G-zlam",
        "outputId": "aaa785da-ffe2-4553-e677-f0f3730b10b4"
      },
      "execution_count": 14,
      "outputs": [
        {
          "output_type": "execute_result",
          "data": {
            "text/plain": [
              "tensor(786., grad_fn=<SumBackward0>)"
            ]
          },
          "metadata": {},
          "execution_count": 14
        }
      ]
    },
    {
      "cell_type": "code",
      "source": [
        "z.backward()"
      ],
      "metadata": {
        "id": "6vRO0zQyzqQQ"
      },
      "execution_count": 15,
      "outputs": []
    },
    {
      "cell_type": "code",
      "source": [
        "torch_input.grad"
      ],
      "metadata": {
        "colab": {
          "base_uri": "https://localhost:8080/"
        },
        "id": "tfl9xmP2zuC8",
        "outputId": "f94d3ccc-0c51-47fc-efb0-7887241aa0d5"
      },
      "execution_count": 16,
      "outputs": [
        {
          "output_type": "execute_result",
          "data": {
            "text/plain": [
              "tensor([[14., 20., 26.],\n",
              "        [20., 26., 32.],\n",
              "        [44., 32., 56.]])"
            ]
          },
          "metadata": {},
          "execution_count": 16
        }
      ]
    }
  ]
}