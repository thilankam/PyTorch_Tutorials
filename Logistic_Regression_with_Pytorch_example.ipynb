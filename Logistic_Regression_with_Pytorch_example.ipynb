{
  "nbformat": 4,
  "nbformat_minor": 0,
  "metadata": {
    "colab": {
      "provenance": [],
      "authorship_tag": "ABX9TyM7YYVog09pgCy+O58GsSdU",
      "include_colab_link": true
    },
    "kernelspec": {
      "name": "python3",
      "display_name": "Python 3"
    },
    "language_info": {
      "name": "python"
    }
  },
  "cells": [
    {
      "cell_type": "markdown",
      "metadata": {
        "id": "view-in-github",
        "colab_type": "text"
      },
      "source": [
        "<a href=\"https://colab.research.google.com/github/thilankam/PyTorch_Tutorials/blob/main/Logistic_Regression_with_Pytorch_example.ipynb\" target=\"_parent\"><img src=\"https://colab.research.google.com/assets/colab-badge.svg\" alt=\"Open In Colab\"/></a>"
      ]
    },
    {
      "cell_type": "markdown",
      "source": [
        "1. Design the model (input size, output size, forward pass)\n",
        "2. Construct Loss and Optimizer\n",
        "3. Training Loop\n",
        "   - forward pass: compute prediction and loss\n",
        "   - backward pass: gradients\n",
        "   - update weights"
      ],
      "metadata": {
        "id": "AzPQMQpr6s2A"
      }
    },
    {
      "cell_type": "code",
      "source": [
        "import torch\n",
        "import numpy as np\n",
        "import torch.nn as nn \n",
        "from sklearn import datasets\n",
        "from sklearn.preprocessing import StandardScaler\n",
        "from sklearn.model_selection import train_test_split"
      ],
      "metadata": {
        "id": "k1z6K1NG7yHe"
      },
      "execution_count": 28,
      "outputs": []
    },
    {
      "cell_type": "markdown",
      "source": [
        "Now we are going to solve a binary classification problem"
      ],
      "metadata": {
        "id": "m-0Ok725YVQw"
      }
    },
    {
      "cell_type": "code",
      "source": [
        "# brest cancer data\n",
        "bc = datasets.load_breast_cancer()\n",
        "X, y = bc.data, bc.target\n",
        "n_samples, n_features = X.shape\n",
        "print(n_samples)\n",
        "print(n_features)\n",
        "# train set and test set\n",
        "X_train, X_test, y_train, y_test = train_test_split(X, y, test_size= 0.2, random_state= 1234)\n",
        "\n",
        "# now we scale our features, so that we have the mean at zero and one unit variance\n",
        "sc = StandardScaler()\n",
        "X_train = sc.fit_transform(X_train)\n",
        "X_test = sc.transform(X_test)\n",
        "\n",
        "# convert to tensor\n",
        "X_train = torch.from_numpy(X_train.astype(np.float32))\n",
        "X_test = torch.from_numpy(X_test.astype(np.float32))\n",
        "y_train = torch.from_numpy(y_train.astype(np.float32))\n",
        "y_test = torch.from_numpy(y_test.astype(np.float32))\n",
        "\n",
        "y_train = y_train.view(y_train.shape[0],1)\n",
        "y_test = y_test.view(y_test.shape[0],1)\n",
        "\n",
        "\n",
        "\n",
        "\n"
      ],
      "metadata": {
        "colab": {
          "base_uri": "https://localhost:8080/"
        },
        "id": "a57Iz0yMYEp_",
        "outputId": "0a8152f0-30f5-4f3e-9bee-7cbc6cbcc70b"
      },
      "execution_count": 29,
      "outputs": [
        {
          "output_type": "stream",
          "name": "stdout",
          "text": [
            "569\n",
            "30\n"
          ]
        }
      ]
    },
    {
      "cell_type": "code",
      "source": [
        "# model\n",
        "# f = mx + b \n",
        "# in logistic regression settings, we use th Sigmoid function\n",
        "class LogisticRegression(nn.Module):\n",
        "\n",
        "  def __init__(self, n_input_features):\n",
        "    super(LogisticRegression, self).__init__()\n",
        "    self.linear = nn.Linear(n_input_features, 1)\n",
        "\n",
        "  def forward(self, x):\n",
        "    y_predicted = torch.sigmoid(self.linear(x))\n",
        "    return y_predicted\n",
        "\n",
        "model = LogisticRegression(n_features)\n",
        "\n",
        "\n"
      ],
      "metadata": {
        "id": "IxpxPeTmVn6s"
      },
      "execution_count": 30,
      "outputs": []
    },
    {
      "cell_type": "code",
      "source": [
        "# loss\n",
        "# for the logistic regression, we will use the Binary Cross Entropy Loss\n",
        "learning_rate = 0.01\n",
        "criterion = nn.BCELoss()\n",
        "# optimizer\n",
        "optimizer = torch.optim.SGD(model.parameters(), lr= learning_rate)"
      ],
      "metadata": {
        "id": "clxgjKF1YBJi"
      },
      "execution_count": 31,
      "outputs": []
    },
    {
      "cell_type": "code",
      "source": [
        "from IPython.utils.sysinfo import num_cpus\n",
        "# Training Loop\n",
        "num_epochs = 100\n",
        "for epoch in range(num_epochs):\n",
        "  # forward pass\n",
        "  y_predicted = model(X_train)\n",
        "  loss = criterion(y_predicted, y_train)\n",
        "\n",
        "  # backward pass\n",
        "  loss.backward()\n",
        "\n",
        "  # updates\n",
        "  optimizer.step()\n",
        "\n",
        "  # zero gradients\n",
        "  optimizer.zero_grad()\n",
        "\n",
        "  if (epoch+1) % 10 == 0:\n",
        "    print(f'epoch+1: {epoch+1}, loss: {loss.item():.4f}')\n",
        "\n",
        "with torch.no_grad():\n",
        "  y_predicted = model(X_test)\n",
        "  y_predicted_cls = y_predicted.round()\n",
        "  acc = y_predicted_cls.eq(y_test).sum() / float(y_test[0])\n",
        "  print(f'accuracy ={acc:.3f}')\n",
        "\n",
        "\n"
      ],
      "metadata": {
        "colab": {
          "base_uri": "https://localhost:8080/"
        },
        "id": "IcBFSZqaYCX5",
        "outputId": "4364aa39-6135-4714-bbae-19544862652d"
      },
      "execution_count": 33,
      "outputs": [
        {
          "output_type": "stream",
          "name": "stdout",
          "text": [
            "epoch+1: 10, loss: 0.7030\n",
            "epoch+1: 20, loss: 0.5579\n",
            "epoch+1: 30, loss: 0.4696\n",
            "epoch+1: 40, loss: 0.4107\n",
            "epoch+1: 50, loss: 0.3684\n",
            "epoch+1: 60, loss: 0.3364\n",
            "epoch+1: 70, loss: 0.3112\n",
            "epoch+1: 80, loss: 0.2907\n",
            "epoch+1: 90, loss: 0.2736\n",
            "epoch+1: 100, loss: 0.2591\n",
            "accuracy =103.000\n"
          ]
        }
      ]
    },
    {
      "cell_type": "markdown",
      "source": [],
      "metadata": {
        "id": "ipPCp62u6loE"
      }
    }
  ]
}