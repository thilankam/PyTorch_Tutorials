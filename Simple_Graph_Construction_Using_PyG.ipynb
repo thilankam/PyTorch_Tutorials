{
  "nbformat": 4,
  "nbformat_minor": 0,
  "metadata": {
    "colab": {
      "provenance": [],
      "authorship_tag": "ABX9TyPectxtOdFtFEBePWhY88AB",
      "include_colab_link": true
    },
    "kernelspec": {
      "name": "python3",
      "display_name": "Python 3"
    },
    "language_info": {
      "name": "python"
    }
  },
  "cells": [
    {
      "cell_type": "markdown",
      "metadata": {
        "id": "view-in-github",
        "colab_type": "text"
      },
      "source": [
        "<a href=\"https://colab.research.google.com/github/thilankam/PyTorch_Tutorials/blob/main/Simple_Graph_Construction_Using_PyG.ipynb\" target=\"_parent\"><img src=\"https://colab.research.google.com/assets/colab-badge.svg\" alt=\"Open In Colab\"/></a>"
      ]
    },
    {
      "cell_type": "code",
      "execution_count": 2,
      "metadata": {
        "colab": {
          "base_uri": "https://localhost:8080/"
        },
        "id": "kglJYz_Rjgkk",
        "outputId": "e28f9159-bf20-44cf-da31-9ae31e0342cc"
      },
      "outputs": [
        {
          "output_type": "stream",
          "name": "stdout",
          "text": [
            "1.13.1+cu116\n",
            "\u001b[2K     \u001b[90m━━━━━━━━━━━━━━━━━━━━━━━━━━━━━━━━━━━━━━━━\u001b[0m \u001b[32m9.4/9.4 MB\u001b[0m \u001b[31m36.4 MB/s\u001b[0m eta \u001b[36m0:00:00\u001b[0m\n",
            "\u001b[2K     \u001b[90m━━━━━━━━━━━━━━━━━━━━━━━━━━━━━━━━━━━━━━━━\u001b[0m \u001b[32m4.5/4.5 MB\u001b[0m \u001b[31m26.8 MB/s\u001b[0m eta \u001b[36m0:00:00\u001b[0m\n",
            "\u001b[?25h  Installing build dependencies ... \u001b[?25l\u001b[?25hdone\n",
            "  Getting requirements to build wheel ... \u001b[?25l\u001b[?25hdone\n",
            "  Preparing metadata (pyproject.toml) ... \u001b[?25l\u001b[?25hdone\n",
            "  Building wheel for torch-geometric (pyproject.toml) ... \u001b[?25l\u001b[?25hdone\n"
          ]
        }
      ],
      "source": [
        "# Install required packages.\n",
        "import os\n",
        "import torch\n",
        "os.environ['TORCH'] = torch.__version__\n",
        "print(torch.__version__)\n",
        "\n",
        "!pip install -q torch-scatter -f https://data.pyg.org/whl/torch-${TORCH}.html\n",
        "!pip install -q torch-sparse -f https://data.pyg.org/whl/torch-${TORCH}.html\n",
        "!pip install -q git+https://github.com/pyg-team/pytorch_geometric.git\n",
        "\n",
        "# Helper function for visualization.\n",
        "%matplotlib inline\n",
        "import networkx as nx\n",
        "import matplotlib.pyplot as plt"
      ]
    },
    {
      "cell_type": "markdown",
      "source": [
        "Define the node features as a tensor:"
      ],
      "metadata": {
        "id": "4Rs2nX_Tjlfm"
      }
    },
    {
      "cell_type": "code",
      "source": [
        "# This creates a 4x2 tensor representing the node features.\n",
        "x = torch.tensor([[0, 1], [1, 0], [0, -1], [-1, 0]], dtype=torch.float)\n"
      ],
      "metadata": {
        "id": "dubDvWUEjm0D"
      },
      "execution_count": 3,
      "outputs": []
    },
    {
      "cell_type": "code",
      "source": [
        "# Define the edge indices as a tensor:\n",
        "# This creates a 2x4 tensor representing the edge indices. \n",
        "# The first  row contains the source nodes,\n",
        "# and the second row contains the target nodes.\n",
        "edge_index = torch.tensor([[0, 1, 2, 3], [1, 2, 3, 0]], dtype=torch.long)\n"
      ],
      "metadata": {
        "id": "cbL3b973kHKZ"
      },
      "execution_count": 4,
      "outputs": []
    },
    {
      "cell_type": "markdown",
      "source": [
        "Create the PyG Data object:"
      ],
      "metadata": {
        "id": "bgwS0BYpkmWA"
      }
    },
    {
      "cell_type": "code",
      "source": [
        "\n",
        "import torch\n",
        "from torch_geometric.data import Data"
      ],
      "metadata": {
        "id": "Yo7W8ORGlBBJ"
      },
      "execution_count": 6,
      "outputs": []
    },
    {
      "cell_type": "code",
      "source": [
        "# This creates a PyG Data object with the node features and edge indices.\n",
        "data = Data(x=x, edge_index=edge_index)\n"
      ],
      "metadata": {
        "id": "3071s7A1kcX6"
      },
      "execution_count": 8,
      "outputs": []
    },
    {
      "cell_type": "code",
      "source": [
        "# Add additional node-level or graph-level attributes to the Data object as desired:\n",
        "data.y = torch.tensor([0, 1, 0, 1], dtype=torch.float)  # Node labels\n",
        "data.num_nodes = x.size(0)  # Number of nodes in the graph\n",
        "data.num_edges = edge_index.size(1)  # Number of edges in the graph\n"
      ],
      "metadata": {
        "id": "NRBuYBydlYL3"
      },
      "execution_count": 9,
      "outputs": []
    },
    {
      "cell_type": "markdown",
      "source": [
        "Visualize the graph using networkx and matplotlib:\n",
        "python\n"
      ],
      "metadata": {
        "id": "tOeXZkvbllFv"
      }
    },
    {
      "cell_type": "code",
      "source": [
        "import networkx as nx\n",
        "import matplotlib.pyplot as plt\n",
        "\n",
        "# Convert edge index to a list of tuples\n",
        "edge_list = edge_index.t().tolist()\n",
        "\n",
        "# Create a networkx graph from the edge list\n",
        "G = nx.Graph()\n",
        "G.add_edges_from(edge_list)\n",
        "\n",
        "# Draw the graph with node labels and colors\n",
        "node_colors = ['red' if y else 'green' for y in data.y.tolist()]\n",
        "nx.draw(G, with_labels=True, node_color=node_colors)\n",
        "\n",
        "# Show the plot\n",
        "plt.show()\n"
      ],
      "metadata": {
        "colab": {
          "base_uri": "https://localhost:8080/",
          "height": 319
        },
        "id": "Fq6zKoI6lh0Q",
        "outputId": "30842bbf-5517-46a3-8284-fdb7081b7cf3"
      },
      "execution_count": 10,
      "outputs": [
        {
          "output_type": "display_data",
          "data": {
            "text/plain": [
              "<Figure size 432x288 with 1 Axes>"
            ],
            "image/png": "[encoded data removed]"
          },
          "metadata": {}
        }
      ]
    }
  ]
}