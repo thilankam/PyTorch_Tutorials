{
  "nbformat": 4,
  "nbformat_minor": 0,
  "metadata": {
    "colab": {
      "provenance": [],
      "authorship_tag": "ABX9TyO7my+qUFOP05w6GZBY6VpB",
      "include_colab_link": true
    },
    "kernelspec": {
      "name": "python3",
      "display_name": "Python 3"
    },
    "language_info": {
      "name": "python"
    }
  },
  "cells": [
    {
      "cell_type": "markdown",
      "metadata": {
        "id": "view-in-github",
        "colab_type": "text"
      },
      "source": [
        "<a href=\"https://colab.research.google.com/github/thilankam/PyTorch_Tutorials/blob/main/Linear_Regresssion_with_tensors_and_backward_function_example.ipynb\" target=\"_parent\"><img src=\"https://colab.research.google.com/assets/colab-badge.svg\" alt=\"Open In Colab\"/></a>"
      ]
    },
    {
      "cell_type": "code",
      "execution_count": 3,
      "metadata": {
        "id": "mAzzH4jPo_tH"
      },
      "outputs": [],
      "source": [
        "import torch \n",
        "import numpy as np"
      ]
    },
    {
      "cell_type": "code",
      "source": [
        "# Forward Pass\n",
        "# f = w * x\n",
        "\n",
        "X = torch.tensor([1,2,3,4], dtype=torch.float32)\n",
        "Y = torch.tensor([2,4,6,8], dtype=torch.float32)\n",
        "\n",
        "w = torch.tensor(0.0, dtype=torch.float32, requires_grad=True)\n",
        "\n",
        "def forward(x):\n",
        "  return (w*x)\n"
      ],
      "metadata": {
        "id": "FnipHW4cpQ_y"
      },
      "execution_count": 10,
      "outputs": []
    },
    {
      "cell_type": "code",
      "source": [
        "# Loss function \n",
        "# we look at the Mean Squared Error\n",
        "\n",
        "def loss(y, y_predicted):\n",
        "  return ((y - y_predicted)**2).mean()\n",
        "\n",
        "\n",
        "print(f'Prediction before training: f(5) = {forward(5):.3f}')"
      ],
      "metadata": {
        "colab": {
          "base_uri": "https://localhost:8080/"
        },
        "id": "Y-MdBh-o0oNb",
        "outputId": "21bb8b0f-e692-4f4a-dc74-9167cda2139a"
      },
      "execution_count": 11,
      "outputs": [
        {
          "output_type": "stream",
          "name": "stdout",
          "text": [
            "Prediction before training: f(5) = 0.000\n"
          ]
        }
      ]
    },
    {
      "cell_type": "code",
      "source": [
        "# Traning\n",
        "learning_rate = 0.01\n",
        "n_iters = 100\n",
        "\n",
        "for epoch in range(n_iters):\n",
        "  # prediction = forward pass\n",
        "  y_pred = forward(X)\n",
        "\n",
        "  # loss \n",
        "  l = loss(Y,y_pred)\n",
        "\n",
        "  # gradients = Backward Pass\n",
        "  # gradient of loss with respect to w\n",
        "  l.backward() # dl/dw\n",
        "\n",
        "  # update weights\n",
        "  with torch.no_grad():\n",
        "    w -= learning_rate * w.grad\n",
        "\n",
        "  # Zero gradient\n",
        "  w.grad.zero_()\n",
        "\n",
        "  if epoch % 10 == 0:\n",
        "    print(f'epoch {epoch+1}: w = {w:.3f}, loss = {l:.8f}') \n",
        "\n",
        "\n",
        "print(f'Prediction after training: f(5): {forward(5):.3f}')\n"
      ],
      "metadata": {
        "colab": {
          "base_uri": "https://localhost:8080/"
        },
        "id": "ZhJTegAO2Zxh",
        "outputId": "605fab75-baf9-4fce-decd-3597e50c4a40"
      },
      "execution_count": 19,
      "outputs": [
        {
          "output_type": "stream",
          "name": "stdout",
          "text": [
            "epoch 1: w = 2.000, loss = 0.00000000\n",
            "epoch 11: w = 2.000, loss = 0.00000000\n",
            "epoch 21: w = 2.000, loss = 0.00000000\n",
            "epoch 31: w = 2.000, loss = 0.00000000\n",
            "epoch 41: w = 2.000, loss = 0.00000000\n",
            "epoch 51: w = 2.000, loss = 0.00000000\n",
            "epoch 61: w = 2.000, loss = 0.00000000\n",
            "epoch 71: w = 2.000, loss = 0.00000000\n",
            "epoch 81: w = 2.000, loss = 0.00000000\n",
            "epoch 91: w = 2.000, loss = 0.00000000\n",
            "Prediction after training: f(5): 10.000\n"
          ]
        }
      ]
    }
  ]
}