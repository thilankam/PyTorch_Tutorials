{
  "nbformat": 4,
  "nbformat_minor": 0,
  "metadata": {
    "colab": {
      "provenance": [],
      "authorship_tag": "ABX9TyOIQpm0geOGIRtjoT+1sEyP",
      "include_colab_link": true
    },
    "kernelspec": {
      "name": "python3",
      "display_name": "Python 3"
    },
    "language_info": {
      "name": "python"
    }
  },
  "cells": [
    {
      "cell_type": "markdown",
      "metadata": {
        "id": "view-in-github",
        "colab_type": "text"
      },
      "source": [
        "<a href=\"https://colab.research.google.com/github/thilankam/PyTorch_Tutorials/blob/main/Pytorch_tutorial_and_examples.ipynb\" target=\"_parent\"><img src=\"https://colab.research.google.com/assets/colab-badge.svg\" alt=\"Open In Colab\"/></a>"
      ]
    },
    {
      "cell_type": "markdown",
      "source": [
        "Scalar"
      ],
      "metadata": {
        "id": "wdgWd9uCJOFv"
      }
    },
    {
      "cell_type": "markdown",
      "source": [],
      "metadata": {
        "id": "vlo0DRDrJMpf"
      }
    },
    {
      "cell_type": "code",
      "execution_count": 1,
      "metadata": {
        "colab": {
          "base_uri": "https://localhost:8080/",
          "height": 35
        },
        "id": "__-zgcXyCoZP",
        "outputId": "2ca2fbe0-2658-436d-d8ed-328987eeec9f"
      },
      "outputs": [
        {
          "output_type": "execute_result",
          "data": {
            "text/plain": [
              "'1.12.1+cu113'"
            ],
            "application/vnd.google.colaboratory.intrinsic+json": {
              "type": "string"
            }
          },
          "metadata": {},
          "execution_count": 1
        }
      ],
      "source": [
        "import torch\n",
        "torch.__version__"
      ]
    },
    {
      "cell_type": "code",
      "source": [
        "#scalar\n",
        "s1 = torch.tensor(10)\n",
        "s1\n",
        "s1.shape\n",
        "s1.dtype\n",
        "s1.ndim"
      ],
      "metadata": {
        "colab": {
          "base_uri": "https://localhost:8080/"
        },
        "id": "m4ZfWsAxF69n",
        "outputId": "33ac1c88-19c9-4e1b-d112-0285d35dbcd2"
      },
      "execution_count": 7,
      "outputs": [
        {
          "output_type": "execute_result",
          "data": {
            "text/plain": [
              "0"
            ]
          },
          "metadata": {},
          "execution_count": 7
        }
      ]
    },
    {
      "cell_type": "code",
      "source": [
        "# get the tensor information \n",
        "s1.item()"
      ],
      "metadata": {
        "colab": {
          "base_uri": "https://localhost:8080/"
        },
        "id": "7xy2XtqZGUUI",
        "outputId": "482d587f-b264-4975-d936-81adf6e3be37"
      },
      "execution_count": 8,
      "outputs": [
        {
          "output_type": "execute_result",
          "data": {
            "text/plain": [
              "10"
            ]
          },
          "metadata": {},
          "execution_count": 8
        }
      ]
    },
    {
      "cell_type": "markdown",
      "source": [
        "Vector\n",
        "\n",
        "A vector is a single dimension tensor but can contain many numbers.\n",
        "\n"
      ],
      "metadata": {
        "id": "RRuiKXl1JS-P"
      }
    },
    {
      "cell_type": "code",
      "source": [
        "v1 = torch.tensor([2,4])\n",
        "v1\n",
        "v1.dtype\n",
        "v1.ndim\n",
        "v1.shape"
      ],
      "metadata": {
        "colab": {
          "base_uri": "https://localhost:8080/"
        },
        "id": "--RJh6SFJKYu",
        "outputId": "8b527ce7-201e-40c7-d7eb-59d9ccfea3b3"
      },
      "execution_count": 13,
      "outputs": [
        {
          "output_type": "execute_result",
          "data": {
            "text/plain": [
              "torch.Size([2])"
            ]
          },
          "metadata": {},
          "execution_count": 13
        }
      ]
    },
    {
      "cell_type": "markdown",
      "source": [
        "Another important concept for tensors is their shape attribute. The shape tells you how the elements inside them are arranged."
      ],
      "metadata": {
        "id": "akXJpofiO6a_"
      }
    },
    {
      "cell_type": "code",
      "source": [
        "# scalr \n",
        "s1.shape\n",
        "\n",
        "# vector, \n",
        "# check the shape\n",
        "v1.shape\n"
      ],
      "metadata": {
        "colab": {
          "base_uri": "https://localhost:8080/"
        },
        "id": "zq86IYKoO8WY",
        "outputId": "3d13debe-fa7f-4697-de9c-c8160e97c143"
      },
      "execution_count": 16,
      "outputs": [
        {
          "output_type": "execute_result",
          "data": {
            "text/plain": [
              "torch.Size([2])"
            ]
          },
          "metadata": {},
          "execution_count": 16
        }
      ]
    },
    {
      "cell_type": "code",
      "source": [
        "v2 = torch.tensor([4,6,8,10,12])\n",
        "v2\n",
        "v2.shape"
      ],
      "metadata": {
        "colab": {
          "base_uri": "https://localhost:8080/"
        },
        "id": "BE6b7MSCPl_4",
        "outputId": "56dc5916-8085-4388-d179-6d8dfd62110d"
      },
      "execution_count": 19,
      "outputs": [
        {
          "output_type": "execute_result",
          "data": {
            "text/plain": [
              "torch.Size([5])"
            ]
          },
          "metadata": {},
          "execution_count": 19
        }
      ]
    },
    {
      "cell_type": "markdown",
      "source": [
        "Matrices\n"
      ],
      "metadata": {
        "id": "cPgykx3TSyxK"
      }
    },
    {
      "cell_type": "code",
      "source": [
        "M1 = torch.tensor(([4,5],[7,8]))\n",
        "M1\n",
        "M1.ndim\n",
        "M1.shape"
      ],
      "metadata": {
        "colab": {
          "base_uri": "https://localhost:8080/"
        },
        "id": "KBvBY5DaS0gU",
        "outputId": "1de45470-0dec-421a-fe32-f09d2d2e383f"
      },
      "execution_count": 23,
      "outputs": [
        {
          "output_type": "execute_result",
          "data": {
            "text/plain": [
              "torch.Size([2, 2])"
            ]
          },
          "metadata": {},
          "execution_count": 23
        }
      ]
    },
    {
      "cell_type": "markdown",
      "source": [
        "Tensor"
      ],
      "metadata": {
        "id": "hNeXzAooUXkB"
      }
    },
    {
      "cell_type": "code",
      "source": [
        "T1 = torch.tensor([[[3,4,5],[6,7,8],[9,10,11]]])\n",
        "T1"
      ],
      "metadata": {
        "colab": {
          "base_uri": "https://localhost:8080/"
        },
        "id": "3Kw9_yycUZX1",
        "outputId": "d1622ceb-027f-4acd-af9a-1ba7dafab99a"
      },
      "execution_count": 24,
      "outputs": [
        {
          "output_type": "execute_result",
          "data": {
            "text/plain": [
              "tensor([[[ 3,  4,  5],\n",
              "         [ 6,  7,  8],\n",
              "         [ 9, 10, 11]]])"
            ]
          },
          "metadata": {},
          "execution_count": 24
        }
      ]
    },
    {
      "cell_type": "code",
      "source": [
        "# dimentions\n",
        "T1.ndim"
      ],
      "metadata": {
        "colab": {
          "base_uri": "https://localhost:8080/"
        },
        "id": "Un0Aqv3rVIrd",
        "outputId": "704d0752-a22c-46e2-9d33-c579a134e86b"
      },
      "execution_count": 25,
      "outputs": [
        {
          "output_type": "execute_result",
          "data": {
            "text/plain": [
              "3"
            ]
          },
          "metadata": {},
          "execution_count": 25
        }
      ]
    },
    {
      "cell_type": "code",
      "source": [
        "# shape\n",
        "T1.shape"
      ],
      "metadata": {
        "colab": {
          "base_uri": "https://localhost:8080/"
        },
        "id": "Eztn2REjVNOf",
        "outputId": "f7a67fdc-e7e8-48f8-e1ee-fcf7620195fa"
      },
      "execution_count": 26,
      "outputs": [
        {
          "output_type": "execute_result",
          "data": {
            "text/plain": [
              "torch.Size([1, 3, 3])"
            ]
          },
          "metadata": {},
          "execution_count": 26
        }
      ]
    },
    {
      "cell_type": "markdown",
      "source": [
        "create a tensor of random numbers."
      ],
      "metadata": {
        "id": "B7NJ_TNMntEI"
      }
    },
    {
      "cell_type": "code",
      "source": [
        "# Create a random tensor of size (3, 4)\n",
        "T1 = torch.rand(size=(3,4))\n",
        "T1,T1.dtype"
      ],
      "metadata": {
        "colab": {
          "base_uri": "https://localhost:8080/"
        },
        "id": "y9OHOlOEnuZ-",
        "outputId": "60d96fa3-e485-445b-aa9e-bd7671a8f34d"
      },
      "execution_count": 28,
      "outputs": [
        {
          "output_type": "execute_result",
          "data": {
            "text/plain": [
              "(tensor([[0.6294, 0.0239, 0.3218, 0.2394],\n",
              "         [0.7790, 0.0583, 0.4680, 0.6851],\n",
              "         [0.9535, 0.5557, 0.6354, 0.7756]]), torch.float32)"
            ]
          },
          "metadata": {},
          "execution_count": 28
        }
      ]
    },
    {
      "cell_type": "code",
      "source": [
        "# Create a random tensor of size (224, 224, 3)\n",
        "Random_Image_Size_Tensor = torch.rand(size=(224,224,3))\n",
        "Random_Image_Size_Tensor.shape, Random_Image_Size_Tensor.ndim"
      ],
      "metadata": {
        "colab": {
          "base_uri": "https://localhost:8080/"
        },
        "id": "PrSyiGubo51h",
        "outputId": "ec36bae5-f59c-47bb-b162-39d7e30418f7"
      },
      "execution_count": 31,
      "outputs": [
        {
          "output_type": "execute_result",
          "data": {
            "text/plain": [
              "(torch.Size([224, 224, 3]), 3)"
            ]
          },
          "metadata": {},
          "execution_count": 31
        }
      ]
    },
    {
      "cell_type": "code",
      "source": [
        "# Create a tensor of all zeros\n",
        "zeros = torch.zeros(size=(3,4))\n",
        "zeros, zeros.shape,zeros.ndim"
      ],
      "metadata": {
        "colab": {
          "base_uri": "https://localhost:8080/"
        },
        "id": "x8aYvvHDqFSG",
        "outputId": "b8a8ba3f-e007-41e5-f504-8b961c7e140a"
      },
      "execution_count": 34,
      "outputs": [
        {
          "output_type": "execute_result",
          "data": {
            "text/plain": [
              "(tensor([[0., 0., 0., 0.],\n",
              "         [0., 0., 0., 0.],\n",
              "         [0., 0., 0., 0.]]), torch.Size([3, 4]), 2)"
            ]
          },
          "metadata": {},
          "execution_count": 34
        }
      ]
    },
    {
      "cell_type": "code",
      "source": [
        "# Create a tensor of all ones\n",
        "ones = torch.ones(size=(3,4))\n",
        "ones, ones.dtype, ones.shape, ones.ndim"
      ],
      "metadata": {
        "colab": {
          "base_uri": "https://localhost:8080/"
        },
        "id": "QCw_sWpqqjLu",
        "outputId": "7ddcf856-99ba-4160-f5d7-c88ae453b678"
      },
      "execution_count": 36,
      "outputs": [
        {
          "output_type": "execute_result",
          "data": {
            "text/plain": [
              "(tensor([[1., 1., 1., 1.],\n",
              "         [1., 1., 1., 1.],\n",
              "         [1., 1., 1., 1.]]), torch.float32, torch.Size([3, 4]), 2)"
            ]
          },
          "metadata": {},
          "execution_count": 36
        }
      ]
    }
  ]
}